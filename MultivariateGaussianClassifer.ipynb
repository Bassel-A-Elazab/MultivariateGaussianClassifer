{
 "cells": [
  {
   "cell_type": "code",
   "execution_count": 2,
   "metadata": {},
   "outputs": [],
   "source": [
    "import numpy as np\n",
    "import matplotlib.pyplot as plt\n",
    "from scipy.stats import multivariate_normal\n",
    "import pandas as pd"
   ]
  },
  {
   "cell_type": "code",
   "execution_count": 3,
   "metadata": {},
   "outputs": [
    {
     "data": {
      "text/html": [
       "<div>\n",
       "<style scoped>\n",
       "    .dataframe tbody tr th:only-of-type {\n",
       "        vertical-align: middle;\n",
       "    }\n",
       "\n",
       "    .dataframe tbody tr th {\n",
       "        vertical-align: top;\n",
       "    }\n",
       "\n",
       "    .dataframe thead th {\n",
       "        text-align: right;\n",
       "    }\n",
       "</style>\n",
       "<table border=\"1\" class=\"dataframe\">\n",
       "  <thead>\n",
       "    <tr style=\"text-align: right;\">\n",
       "      <th></th>\n",
       "      <th>Pregnancies</th>\n",
       "      <th>Glucose</th>\n",
       "      <th>BloodPressure</th>\n",
       "      <th>SkinThickness</th>\n",
       "      <th>Insulin</th>\n",
       "      <th>BMI</th>\n",
       "      <th>DiabetesPedigreeFunction</th>\n",
       "      <th>Age</th>\n",
       "      <th>Outcome</th>\n",
       "    </tr>\n",
       "  </thead>\n",
       "  <tbody>\n",
       "    <tr>\n",
       "      <th>0</th>\n",
       "      <td>6</td>\n",
       "      <td>148</td>\n",
       "      <td>72</td>\n",
       "      <td>35</td>\n",
       "      <td>0</td>\n",
       "      <td>33.6</td>\n",
       "      <td>0.627</td>\n",
       "      <td>50</td>\n",
       "      <td>1</td>\n",
       "    </tr>\n",
       "    <tr>\n",
       "      <th>1</th>\n",
       "      <td>1</td>\n",
       "      <td>85</td>\n",
       "      <td>66</td>\n",
       "      <td>29</td>\n",
       "      <td>0</td>\n",
       "      <td>26.6</td>\n",
       "      <td>0.351</td>\n",
       "      <td>31</td>\n",
       "      <td>0</td>\n",
       "    </tr>\n",
       "    <tr>\n",
       "      <th>2</th>\n",
       "      <td>8</td>\n",
       "      <td>183</td>\n",
       "      <td>64</td>\n",
       "      <td>0</td>\n",
       "      <td>0</td>\n",
       "      <td>23.3</td>\n",
       "      <td>0.672</td>\n",
       "      <td>32</td>\n",
       "      <td>1</td>\n",
       "    </tr>\n",
       "    <tr>\n",
       "      <th>3</th>\n",
       "      <td>1</td>\n",
       "      <td>89</td>\n",
       "      <td>66</td>\n",
       "      <td>23</td>\n",
       "      <td>94</td>\n",
       "      <td>28.1</td>\n",
       "      <td>0.167</td>\n",
       "      <td>21</td>\n",
       "      <td>0</td>\n",
       "    </tr>\n",
       "    <tr>\n",
       "      <th>4</th>\n",
       "      <td>0</td>\n",
       "      <td>137</td>\n",
       "      <td>40</td>\n",
       "      <td>35</td>\n",
       "      <td>168</td>\n",
       "      <td>43.1</td>\n",
       "      <td>2.288</td>\n",
       "      <td>33</td>\n",
       "      <td>1</td>\n",
       "    </tr>\n",
       "  </tbody>\n",
       "</table>\n",
       "</div>"
      ],
      "text/plain": [
       "   Pregnancies  Glucose  BloodPressure  SkinThickness  Insulin   BMI  \\\n",
       "0            6      148             72             35        0  33.6   \n",
       "1            1       85             66             29        0  26.6   \n",
       "2            8      183             64              0        0  23.3   \n",
       "3            1       89             66             23       94  28.1   \n",
       "4            0      137             40             35      168  43.1   \n",
       "\n",
       "   DiabetesPedigreeFunction  Age  Outcome  \n",
       "0                     0.627   50        1  \n",
       "1                     0.351   31        0  \n",
       "2                     0.672   32        1  \n",
       "3                     0.167   21        0  \n",
       "4                     2.288   33        1  "
      ]
     },
     "execution_count": 3,
     "metadata": {},
     "output_type": "execute_result"
    }
   ],
   "source": [
    "data_file_name = 'MNIST/diabetes.csv'\n",
    "data = pd.read_csv(data_file_name)\n",
    "data.head()"
   ]
  },
  {
   "cell_type": "code",
   "execution_count": 12,
   "metadata": {},
   "outputs": [
    {
     "name": "stdout",
     "output_type": "stream",
     "text": [
      "Info of MNSIT used it in classifer\n",
      "Number of data : 768, number of training data : 499, and number of test data : 269 \n",
      "classifer used ( ['BloodPressure', 'BMI'] )features\n"
     ]
    }
   ],
   "source": [
    "number_train_data = int(len(data)*0.65)\n",
    "number_test_data = len(data) - number_train_data\n",
    "\n",
    "feature_names = data.columns\n",
    "feature_column_name = [feature_names[2], feature_names[5]]\n",
    "label_column_name = data.columns[-1]\n",
    "classes_name = data[label_column_name].unique()\n",
    "\n",
    "train_data = data.iloc[:number_train_data]\n",
    "test_data = data.iloc[number_train_data:]\n",
    "\n",
    "print(\"Info of MNSIT used it in classifer\")\n",
    "print(\"Number of data : %d, number of training data : %d, and number of test data : %d \"%(len(data),len(train_data),len(test_data)))\n",
    "\n",
    "print(\"classifer used ( \"+str(feature_column_name)+\" )features\")"
   ]
  },
  {
   "cell_type": "code",
   "execution_count": 106,
   "metadata": {},
   "outputs": [],
   "source": [
    "class GaussianClassiferTwoDimension:\n",
    "    def __init__(self):\n",
    "        pass\n",
    "    \n",
    "    #creates method that claculate mean for each labels individually.\n",
    "    def mean(self, feature_one, feature_two):\n",
    "        return np.array([np.mean(feature_one) , np.mean(feature_two)])\n",
    "    \n",
    "    #creates method that clalculate covariance matrix for features data in model.\n",
    "    def covariance_matrix(self, feature_one, feature_two):\n",
    "        return np.cov(feature_one, feature_two)\n",
    "    \n",
    "    #creates method that calculates denisty function for multivariate gaussian.\n",
    "    def pdf_multivariate(self, feature_one, feature_two, mu, new_x_feature):\n",
    "        cov_matrix = self.covariance_matrix(feature_one, feature_two)\n",
    "        rv = multivariate_normal(mu, cov_matrix)\n",
    "        pdf_result = rv.pdf(new_x_feature)\n",
    "        return pdf_result\n",
    "\n",
    "    '''\n",
    "        creates method that separates training data for each classes, and \n",
    "        calculates all paramter such, mean, covariance matrix, density function\n",
    "        to fit model and predict new point comes.\n",
    "    '''\n",
    "    def predict(self, data, new_x_feature, target, target_col_name,feature_names):\n",
    "        prob = list()\n",
    "        for i in range(len(target)):\n",
    "            data_for_feature_one = data[data[target_col_name] == target[i]][feature_names[0]].values\n",
    "            data_for_feature_two = data[data[target_col_name] == target[i]][feature_names[1]].values\n",
    "            mu = self.mean(data_for_feature_one, data_for_feature_two)\n",
    "            pdf = self.pdf_multivariate(data_for_feature_one, data_for_feature_two, mu, new_x_feature) \n",
    "            prob.append((pdf,target[i]))\n",
    "        prob.sort(key=lambda x:x[0], reverse = True)\n",
    "        return prob[0]\n",
    "    \n",
    "    def scatter_features(self, data, target, target_col_name,feature_names):\n",
    "        colors = ('red', 'blue', 'green')\n",
    "        plt.figure(figsize=(8,8))\n",
    "        plt.xlabel(feature_names[0],fontsize=15)\n",
    "        plt.ylabel(feature_names[1],fontsize=15)\n",
    "        plt.title('Scatter plot between two features', fontsize=20)\n",
    "        for i, color in zip(target, colors):\n",
    "            data_for_feature_one = data[data[target_col_name] == target[i]][feature_names[0]].values\n",
    "            data_for_feature_two = data[data[target_col_name] == target[i]][feature_names[1]].values\n",
    "            plt.scatter(data_for_feature_one, data_for_feature_two, c=color, s=50,label=target[i])\n",
    "        plt.legend()"
   ]
  },
  {
   "cell_type": "code",
   "execution_count": 107,
   "metadata": {},
   "outputs": [
    {
     "data": {
      "image/png": "[encoded data removed]",
      "text/plain": [
       "<Figure size 576x576 with 1 Axes>"
      ]
     },
     "metadata": {
      "needs_background": "light"
     },
     "output_type": "display_data"
    }
   ],
   "source": [
    "gs_2d = GaussianClassiferTwoDimension()\n",
    "gs_2d.scatter_features(train_data, classes_name, label_column_name, feature_column_name)"
   ]
  },
  {
   "cell_type": "code",
   "execution_count": null,
   "metadata": {},
   "outputs": [],
   "source": []
  },
  {
   "cell_type": "code",
   "execution_count": null,
   "metadata": {},
   "outputs": [],
   "source": []
  }
 ],
 "metadata": {
  "kernelspec": {
   "display_name": "Python 3",
   "language": "python",
   "name": "python3"
  },
  "language_info": {
   "codemirror_mode": {
    "name": "ipython",
    "version": 3
   },
   "file_extension": ".py",
   "mimetype": "text/x-python",
   "name": "python",
   "nbconvert_exporter": "python",
   "pygments_lexer": "ipython3",
   "version": "3.8.2"
  }
 },
 "nbformat": 4,
 "nbformat_minor": 4
}
